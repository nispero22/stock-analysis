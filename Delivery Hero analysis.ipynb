{
 "cells": [
  {
   "cell_type": "markdown",
   "id": "8ab2284b",
   "metadata": {},
   "source": [
    "# Delivery Hero stock analysis vs DAX index"
   ]
  },
  {
   "cell_type": "markdown",
   "id": "a632bc30",
   "metadata": {},
   "source": [
    "## Import python libraries"
   ]
  },
  {
   "cell_type": "code",
   "execution_count": 1,
   "id": "a8328b96",
   "metadata": {},
   "outputs": [],
   "source": [
    "import matplotlib.pyplot as plt"
   ]
  },
  {
   "cell_type": "code",
   "execution_count": 2,
   "id": "e1d37483",
   "metadata": {},
   "outputs": [],
   "source": [
    "import pandas as pd"
   ]
  },
  {
   "cell_type": "markdown",
   "id": "40bc2ec0",
   "metadata": {},
   "source": [
    "## Load stock data"
   ]
  },
  {
   "cell_type": "code",
   "execution_count": 3,
   "id": "3eac0ca5",
   "metadata": {},
   "outputs": [],
   "source": [
    "DAX_index = pd.read_csv(\"data/GDAXI.csv\")\n",
    "delivery_hero_stock = pd.read_csv(\"data/DHER.DE.csv\")"
   ]
  },
  {
   "cell_type": "code",
   "execution_count": 4,
   "id": "82625793",
   "metadata": {},
   "outputs": [
    {
     "data": {
      "text/html": [
       "<div>\n",
       "<style scoped>\n",
       "    .dataframe tbody tr th:only-of-type {\n",
       "        vertical-align: middle;\n",
       "    }\n",
       "\n",
       "    .dataframe tbody tr th {\n",
       "        vertical-align: top;\n",
       "    }\n",
       "\n",
       "    .dataframe thead th {\n",
       "        text-align: right;\n",
       "    }\n",
       "</style>\n",
       "<table border=\"1\" class=\"dataframe\">\n",
       "  <thead>\n",
       "    <tr style=\"text-align: right;\">\n",
       "      <th></th>\n",
       "      <th>Date</th>\n",
       "      <th>Open</th>\n",
       "      <th>High</th>\n",
       "      <th>Low</th>\n",
       "      <th>Close</th>\n",
       "      <th>Adj Close</th>\n",
       "      <th>Volume</th>\n",
       "    </tr>\n",
       "  </thead>\n",
       "  <tbody>\n",
       "    <tr>\n",
       "      <th>0</th>\n",
       "      <td>2017-07-01</td>\n",
       "      <td>12396.339844</td>\n",
       "      <td>12676.519531</td>\n",
       "      <td>12097.360352</td>\n",
       "      <td>12118.250000</td>\n",
       "      <td>12118.250000</td>\n",
       "      <td>1774219500</td>\n",
       "    </tr>\n",
       "    <tr>\n",
       "      <th>1</th>\n",
       "      <td>2017-08-01</td>\n",
       "      <td>12147.889648</td>\n",
       "      <td>12336.000000</td>\n",
       "      <td>11868.839844</td>\n",
       "      <td>12055.839844</td>\n",
       "      <td>12055.839844</td>\n",
       "      <td>1736744300</td>\n",
       "    </tr>\n",
       "    <tr>\n",
       "      <th>2</th>\n",
       "      <td>2017-09-01</td>\n",
       "      <td>12101.150391</td>\n",
       "      <td>12828.860352</td>\n",
       "      <td>12050.530273</td>\n",
       "      <td>12828.860352</td>\n",
       "      <td>12828.860352</td>\n",
       "      <td>1770810200</td>\n",
       "    </tr>\n",
       "    <tr>\n",
       "      <th>3</th>\n",
       "      <td>2017-10-01</td>\n",
       "      <td>12866.269531</td>\n",
       "      <td>13255.379883</td>\n",
       "      <td>12849.589844</td>\n",
       "      <td>13229.570313</td>\n",
       "      <td>13229.570313</td>\n",
       "      <td>1560162000</td>\n",
       "    </tr>\n",
       "    <tr>\n",
       "      <th>4</th>\n",
       "      <td>2017-11-01</td>\n",
       "      <td>13342.440430</td>\n",
       "      <td>13525.559570</td>\n",
       "      <td>12847.879883</td>\n",
       "      <td>13023.980469</td>\n",
       "      <td>13023.980469</td>\n",
       "      <td>2121108500</td>\n",
       "    </tr>\n",
       "  </tbody>\n",
       "</table>\n",
       "</div>"
      ],
      "text/plain": [
       "         Date          Open          High           Low         Close  \\\n",
       "0  2017-07-01  12396.339844  12676.519531  12097.360352  12118.250000   \n",
       "1  2017-08-01  12147.889648  12336.000000  11868.839844  12055.839844   \n",
       "2  2017-09-01  12101.150391  12828.860352  12050.530273  12828.860352   \n",
       "3  2017-10-01  12866.269531  13255.379883  12849.589844  13229.570313   \n",
       "4  2017-11-01  13342.440430  13525.559570  12847.879883  13023.980469   \n",
       "\n",
       "      Adj Close      Volume  \n",
       "0  12118.250000  1774219500  \n",
       "1  12055.839844  1736744300  \n",
       "2  12828.860352  1770810200  \n",
       "3  13229.570313  1560162000  \n",
       "4  13023.980469  2121108500  "
      ]
     },
     "execution_count": 4,
     "metadata": {},
     "output_type": "execute_result"
    }
   ],
   "source": [
    "DAX_index.head()"
   ]
  },
  {
   "cell_type": "code",
   "execution_count": 5,
   "id": "bb6d8c18",
   "metadata": {},
   "outputs": [
    {
     "data": {
      "text/html": [
       "<div>\n",
       "<style scoped>\n",
       "    .dataframe tbody tr th:only-of-type {\n",
       "        vertical-align: middle;\n",
       "    }\n",
       "\n",
       "    .dataframe tbody tr th {\n",
       "        vertical-align: top;\n",
       "    }\n",
       "\n",
       "    .dataframe thead th {\n",
       "        text-align: right;\n",
       "    }\n",
       "</style>\n",
       "<table border=\"1\" class=\"dataframe\">\n",
       "  <thead>\n",
       "    <tr style=\"text-align: right;\">\n",
       "      <th></th>\n",
       "      <th>Date</th>\n",
       "      <th>Open</th>\n",
       "      <th>High</th>\n",
       "      <th>Low</th>\n",
       "      <th>Close</th>\n",
       "      <th>Adj Close</th>\n",
       "      <th>Volume</th>\n",
       "    </tr>\n",
       "  </thead>\n",
       "  <tbody>\n",
       "    <tr>\n",
       "      <th>0</th>\n",
       "      <td>2017-07-01</td>\n",
       "      <td>28.250000</td>\n",
       "      <td>29.799999</td>\n",
       "      <td>25.424999</td>\n",
       "      <td>27.700001</td>\n",
       "      <td>27.700001</td>\n",
       "      <td>2236473</td>\n",
       "    </tr>\n",
       "    <tr>\n",
       "      <th>1</th>\n",
       "      <td>2017-08-01</td>\n",
       "      <td>28.200001</td>\n",
       "      <td>30.790001</td>\n",
       "      <td>26.540001</td>\n",
       "      <td>30.100000</td>\n",
       "      <td>30.100000</td>\n",
       "      <td>1119287</td>\n",
       "    </tr>\n",
       "    <tr>\n",
       "      <th>2</th>\n",
       "      <td>2017-09-01</td>\n",
       "      <td>30.299999</td>\n",
       "      <td>37.000000</td>\n",
       "      <td>29.834999</td>\n",
       "      <td>33.500000</td>\n",
       "      <td>33.500000</td>\n",
       "      <td>1266841</td>\n",
       "    </tr>\n",
       "    <tr>\n",
       "      <th>3</th>\n",
       "      <td>2017-10-01</td>\n",
       "      <td>33.779999</td>\n",
       "      <td>38.395000</td>\n",
       "      <td>32.290001</td>\n",
       "      <td>36.634998</td>\n",
       "      <td>36.634998</td>\n",
       "      <td>937821</td>\n",
       "    </tr>\n",
       "    <tr>\n",
       "      <th>4</th>\n",
       "      <td>2017-11-01</td>\n",
       "      <td>37.485001</td>\n",
       "      <td>39.750000</td>\n",
       "      <td>36.325001</td>\n",
       "      <td>38.900002</td>\n",
       "      <td>38.900002</td>\n",
       "      <td>1097242</td>\n",
       "    </tr>\n",
       "  </tbody>\n",
       "</table>\n",
       "</div>"
      ],
      "text/plain": [
       "         Date       Open       High        Low      Close  Adj Close   Volume\n",
       "0  2017-07-01  28.250000  29.799999  25.424999  27.700001  27.700001  2236473\n",
       "1  2017-08-01  28.200001  30.790001  26.540001  30.100000  30.100000  1119287\n",
       "2  2017-09-01  30.299999  37.000000  29.834999  33.500000  33.500000  1266841\n",
       "3  2017-10-01  33.779999  38.395000  32.290001  36.634998  36.634998   937821\n",
       "4  2017-11-01  37.485001  39.750000  36.325001  38.900002  38.900002  1097242"
      ]
     },
     "execution_count": 5,
     "metadata": {},
     "output_type": "execute_result"
    }
   ],
   "source": [
    "delivery_hero_stock.head()"
   ]
  },
  {
   "cell_type": "markdown",
   "id": "aed1adff",
   "metadata": {},
   "source": [
    "Verifying that dates correspond"
   ]
  },
  {
   "cell_type": "code",
   "execution_count": 6,
   "id": "11e6353f",
   "metadata": {},
   "outputs": [
    {
     "data": {
      "text/plain": [
       "True"
      ]
     },
     "execution_count": 6,
     "metadata": {},
     "output_type": "execute_result"
    }
   ],
   "source": [
    "(DAX_index[\"Date\"]==delivery_hero_stock[\"Date\"]).all()"
   ]
  },
  {
   "cell_type": "code",
   "execution_count": 7,
   "id": "8c7ebcea",
   "metadata": {},
   "outputs": [],
   "source": [
    "DAX_index[\"Date\"]=pd.to_datetime(DAX_index[\"Date\"])"
   ]
  },
  {
   "cell_type": "code",
   "execution_count": 8,
   "id": "ad09d217",
   "metadata": {},
   "outputs": [],
   "source": [
    "delivery_hero_stock[\"Date\"]=pd.to_datetime(delivery_hero_stock[\"Date\"])"
   ]
  },
  {
   "cell_type": "markdown",
   "id": "e62cfb13",
   "metadata": {},
   "source": [
    "## Display"
   ]
  },
  {
   "cell_type": "code",
   "execution_count": 9,
   "id": "2a41f39c",
   "metadata": {},
   "outputs": [
    {
     "data": {
      "image/png": "[encoded data removed]",
      "text/plain": [
       "<Figure size 432x288 with 1 Axes>"
      ]
     },
     "metadata": {
      "needs_background": "light"
     },
     "output_type": "display_data"
    }
   ],
   "source": [
    "plt.title(\"DAX index prices from 2017 to 2022\")\n",
    "plt.ylabel(\"Open price\")\n",
    "plt.ylabel(\"Date\")\n",
    "plt.plot(DAX_index[\"Date\"],DAX_index[\"Open\"])\n",
    "plt.gcf().autofmt_xdate()"
   ]
  },
  {
   "cell_type": "code",
   "execution_count": 10,
   "id": "8cbe79ed",
   "metadata": {},
   "outputs": [
    {
     "data": {
      "image/png": "[encoded data removed]",
      "text/plain": [
       "<Figure size 432x288 with 1 Axes>"
      ]
     },
     "metadata": {
      "needs_background": "light"
     },
     "output_type": "display_data"
    }
   ],
   "source": [
    "plt.title(\"Delivery Hero index prices from 2017 to 2022\")\n",
    "plt.ylabel(\"Open price\")\n",
    "plt.xlabel(\"Date\")\n",
    "plt.plot(delivery_hero_stock[\"Date\"],delivery_hero_stock[\"Open\"])\n",
    "plt.gcf().autofmt_xdate()"
   ]
  },
  {
   "cell_type": "markdown",
   "id": "c20a3ee6",
   "metadata": {},
   "source": [
    "## Analysis"
   ]
  },
  {
   "cell_type": "code",
   "execution_count": 11,
   "id": "2cd2275f",
   "metadata": {},
   "outputs": [
    {
     "data": {
      "image/png": "[encoded data removed]",
      "text/plain": [
       "<Figure size 432x288 with 1 Axes>"
      ]
     },
     "metadata": {
      "needs_background": "light"
     },
     "output_type": "display_data"
    }
   ],
   "source": [
    "plt.title(\"Comparison\")\n",
    "plt.ylabel(\"Open price\")\n",
    "plt.xlabel(\"Date\")\n",
    "plt.plot(delivery_hero_stock[\"Date\"],delivery_hero_stock[\"Open\"]/delivery_hero_stock[\"Open\"].max())\n",
    "plt.plot(DAX_index[\"Date\"],DAX_index[\"Open\"]/DAX_index[\"Open\"].max())\n",
    "plt.gcf().autofmt_xdate()"
   ]
  }
 ],
 "metadata": {
  "kernelspec": {
   "display_name": "Python 3 (ipykernel)",
   "language": "python",
   "name": "python3"
  },
  "language_info": {
   "codemirror_mode": {
    "name": "ipython",
    "version": 3
   },
   "file_extension": ".py",
   "mimetype": "text/x-python",
   "name": "python",
   "nbconvert_exporter": "python",
   "pygments_lexer": "ipython3",
   "version": "3.9.2"
  }
 },
 "nbformat": 4,
 "nbformat_minor": 5
}
